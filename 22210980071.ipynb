{
 "cells": [
  {
   "cell_type": "markdown",
   "id": "b8c3ad26",
   "metadata": {},
   "source": [
    "## 2layer-nn"
   ]
  },
  {
   "cell_type": "code",
   "execution_count": 25,
   "id": "e1b5834a",
   "metadata": {},
   "outputs": [],
   "source": [
    "import numpy as np\n",
    "import struct\n",
    "import os\n",
    "\n",
    "class NeuralNetwork:\n",
    "    \n",
    "    def __init__(self, input_dim, hidden_dim, output_dim, lr=0.1, reg_lambda=0.01):\n",
    "        self.input_dim = input_dim\n",
    "        self.hidden_dim = hidden_dim\n",
    "        self.output_dim = output_dim\n",
    "        self.lr = lr\n",
    "        self.reg_lambda = reg_lambda\n",
    "        \n",
    "        #Initial weight\n",
    "        self.W1 = np.random.randn(input_dim, hidden_dim) / np.sqrt(input_dim)\n",
    "        self.b1 = np.zeros((1, hidden_dim))\n",
    "        self.W2 = np.random.randn(hidden_dim, output_dim) / np.sqrt(hidden_dim)\n",
    "        self.b2 = np.zeros((1, output_dim))\n",
    "    \n",
    "    def forward(self, X):\n",
    "        self.z1 = X.dot(self.W1) + self.b1\n",
    "        self.a1 = np.maximum(0, self.z1)\n",
    "        self.z2 = self.a1.dot(self.W2) + self.b2\n",
    "        exp_scores = np.exp(self.z2)\n",
    "        self.probs = exp_scores / np.sum(exp_scores, axis=1, keepdims=True)\n",
    "        return self.probs\n",
    "    \n",
    "    def backward(self, X, y):\n",
    "        num_examples = X.shape[0]\n",
    "        \n",
    "         # Compute loss\n",
    "        cross_entropy_loss = -np.log(self.probs[range(num_examples), y])\n",
    "        data_loss = np.sum(cross_entropy_loss) \n",
    "        reg_loss = 0.5 * self.reg_lambda * (np.sum(self.W1 * self.W1) + np.sum(self.W2 * self.W2))\n",
    "        loss = data_loss + reg_loss\n",
    "        \n",
    "        # Compute gradient\n",
    "        delta3 = self.probs\n",
    "        delta3[range(num_examples), y] -= 1\n",
    "        dW2 = (self.a1.T).dot(delta3)\n",
    "        db2 = np.sum(delta3, axis=0, keepdims=True)\n",
    "        delta2 = delta3.dot(self.W2.T) * (self.a1 > 0)\n",
    "        dW1 = np.dot(X.T, delta2)\n",
    "        db1 = np.sum(delta2, axis=0)\n",
    "        dW2 += self.reg_lambda * self.W2\n",
    "        dW1 += self.reg_lambda * self.W1\n",
    "        return dW1, db1, dW2, db2, loss\n",
    "    \n",
    "    def train(self, X, y, num_epochs=100, batch_size=32, decay_rate=0.1, decay_steps=50):\n",
    "        num_samples = X.shape[0]\n",
    "        LOSS=[]\n",
    "        ACCU=[]\n",
    "        for epoch in range(num_epochs):\n",
    "            lr = self.lr * (decay_rate ** (epoch // decay_steps))\n",
    "            indices = np.random.permutation(num_samples)\n",
    "            X_shuffled = X[indices]\n",
    "            y_shuffled = y[indices]\n",
    "            \n",
    "            loss_list=[]\n",
    "            \n",
    "            for i in range(0, num_samples, batch_size):\n",
    "                X_batch = X_shuffled[i:i+batch_size]\n",
    "                y_batch = y_shuffled[i:i+batch_size]\n",
    "                probs = self.forward(X_batch)\n",
    "                dW1, db1, dW2, db2 ,loss= self.backward(X_batch, y_batch)\n",
    "                self.W1 -= lr * dW1\n",
    "                self.b1 -= lr * db1\n",
    "                self.W2 -= lr * dW2\n",
    "                self.b2 -= lr * db2\n",
    "                loss_list.append(loss)\n",
    "            \n",
    "            # train_loss\n",
    "            loss_result=np.sum(loss_list)\n",
    "            LOSS.append(loss_result)\n",
    "            \n",
    "            # train_accuracy\n",
    "            accu = np.mean(self.predict(X) == y)\n",
    "            ACCU.append(accu)\n",
    "            \n",
    "        print(LOSS)\n",
    "        print(ACCU)\n",
    "        \n",
    "\n",
    "    def predict(self, X):\n",
    "        probs = self.forward(X)\n",
    "        return np.argmax(probs, axis=1)\n",
    "\n"
   ]
  },
  {
   "cell_type": "markdown",
   "id": "ec61ce07",
   "metadata": {},
   "source": [
    "## parameters search"
   ]
  },
  {
   "cell_type": "code",
   "execution_count": 4,
   "id": "9f481432",
   "metadata": {},
   "outputs": [
    {
     "name": "stdout",
     "output_type": "stream",
     "text": [
      "Hidden layer size: 32, Learning rate: 0.02, Regularization: 0.001, Accuracy: 0.9631666666666666\n",
      "Hidden layer size: 32, Learning rate: 0.02, Regularization: 0.01, Accuracy: 0.9669166666666666\n",
      "Hidden layer size: 32, Learning rate: 0.02, Regularization: 0.1, Accuracy: 0.9555833333333333\n",
      "Hidden layer size: 32, Learning rate: 0.01, Regularization: 0.001, Accuracy: 0.9671666666666666\n",
      "Hidden layer size: 32, Learning rate: 0.01, Regularization: 0.01, Accuracy: 0.9745\n",
      "Hidden layer size: 32, Learning rate: 0.01, Regularization: 0.1, Accuracy: 0.96375\n",
      "Hidden layer size: 32, Learning rate: 0.001, Regularization: 0.001, Accuracy: 0.9673333333333334\n",
      "Hidden layer size: 32, Learning rate: 0.001, Regularization: 0.01, Accuracy: 0.96825\n",
      "Hidden layer size: 32, Learning rate: 0.001, Regularization: 0.1, Accuracy: 0.9601666666666666\n",
      "Hidden layer size: 64, Learning rate: 0.02, Regularization: 0.001, Accuracy: 0.97625\n",
      "Hidden layer size: 64, Learning rate: 0.02, Regularization: 0.01, Accuracy: 0.97925\n",
      "Hidden layer size: 64, Learning rate: 0.02, Regularization: 0.1, Accuracy: 0.96\n",
      "Hidden layer size: 64, Learning rate: 0.01, Regularization: 0.001, Accuracy: 0.9771666666666666\n",
      "Hidden layer size: 64, Learning rate: 0.01, Regularization: 0.01, Accuracy: 0.9788333333333333\n",
      "Hidden layer size: 64, Learning rate: 0.01, Regularization: 0.1, Accuracy: 0.96525\n",
      "Hidden layer size: 64, Learning rate: 0.001, Regularization: 0.001, Accuracy: 0.973\n",
      "Hidden layer size: 64, Learning rate: 0.001, Regularization: 0.01, Accuracy: 0.9754166666666667\n",
      "Hidden layer size: 64, Learning rate: 0.001, Regularization: 0.1, Accuracy: 0.9625\n",
      "Hidden layer size: 128, Learning rate: 0.02, Regularization: 0.001, Accuracy: 0.98025\n",
      "Hidden layer size: 128, Learning rate: 0.02, Regularization: 0.01, Accuracy: 0.9815833333333334\n",
      "Hidden layer size: 128, Learning rate: 0.02, Regularization: 0.1, Accuracy: 0.9651666666666666\n",
      "Hidden layer size: 128, Learning rate: 0.01, Regularization: 0.001, Accuracy: 0.9805833333333334\n",
      "Hidden layer size: 128, Learning rate: 0.01, Regularization: 0.01, Accuracy: 0.98125\n",
      "Hidden layer size: 128, Learning rate: 0.01, Regularization: 0.1, Accuracy: 0.9665\n",
      "Hidden layer size: 128, Learning rate: 0.001, Regularization: 0.001, Accuracy: 0.9776666666666667\n",
      "Hidden layer size: 128, Learning rate: 0.001, Regularization: 0.01, Accuracy: 0.9791666666666666\n",
      "Hidden layer size: 128, Learning rate: 0.001, Regularization: 0.1, Accuracy: 0.9654166666666667\n",
      "Best accuracy: 0.9815833333333334\n"
     ]
    }
   ],
   "source": [
    "# Load the MNIST dataset\n",
    "def load_mnist(path, kind='train'):\n",
    "    labels_path = os.path.join(path, '%s-labels.idx1-ubyte' % kind)\n",
    "    images_path = os.path.join(path, '%s-images.idx3-ubyte' % kind)\n",
    "    with open(labels_path, 'rb') as lbpath:\n",
    "        magic, n = struct.unpack('>II', lbpath.read(8))\n",
    "        labels = np.fromfile(lbpath, dtype=np.uint8)\n",
    "    with open(images_path, 'rb') as imgpath:\n",
    "        magic, num, rows, cols = struct.unpack('>IIII', imgpath.read(16))\n",
    "        images = np.fromfile(imgpath, dtype=np.uint8).reshape(len(labels), 784)\n",
    "    return images, labels\n",
    "\n",
    "# Load the training and validation data\n",
    "X, y = load_mnist('/Users/ziman/Desktop/MINIST/', kind='train')\n",
    "from sklearn.model_selection import train_test_split\n",
    "X_train, X_valid, y_train, y_valid = train_test_split(X, y, test_size=0.2)\n",
    "\n",
    "# Preprocess the data\n",
    "X_train = X_train.astype('float32') / 255\n",
    "y_train = y_train.astype('int32')\n",
    "X_valid = X_valid.astype('float32') / 255\n",
    "y_valid = y_valid.astype('int32')\n",
    "\n",
    "# Set hyperparameters and train the model\n",
    "input_dim = 784\n",
    "output_dim = 10\n",
    "num_epochs = 100\n",
    "batch_size = 32\n",
    "decay_rate = 0.1\n",
    "decay_steps = 50\n",
    "\n",
    "hidden_dims = [32, 64, 128]\n",
    "learning_rates = [0.02, 0.01, 0.001]\n",
    "regularizations = [0.001, 0.01, 0.1]\n",
    "\n",
    "best_acc = 0\n",
    "best_nn = None\n",
    "best_nn_loss=None\n",
    "\n",
    "for hidden_dim in hidden_dims:\n",
    "    for lr in learning_rates:\n",
    "        for reg_lambda in regularizations:\n",
    "            nn = NeuralNetwork(input_dim, hidden_dim, output_dim, lr=lr, reg_lambda=reg_lambda)\n",
    "            nn.train(X_train, y_train, num_epochs=num_epochs, batch_size=batch_size, decay_rate=decay_rate, decay_steps=decay_steps)\n",
    "            acc = np.mean(nn.predict(X_valid) == y_valid)\n",
    "            print(f'Hidden layer size: {hidden_dim}, Learning rate: {lr}, Regularization: {reg_lambda}, Accuracy: {acc}')\n",
    "            if acc > best_acc:\n",
    "                best_acc = acc\n",
    "                best_nn = nn\n",
    "\n",
    "print(f'Best accuracy: {best_acc}')\n",
    "\n"
   ]
  },
  {
   "cell_type": "markdown",
   "id": "052d4f35",
   "metadata": {},
   "source": [
    "## test nn"
   ]
  },
  {
   "cell_type": "code",
   "execution_count": 26,
   "id": "5995971b",
   "metadata": {},
   "outputs": [
    {
     "name": "stdout",
     "output_type": "stream",
     "text": [
      "[18738.13111061164, 12196.719229235649, 10983.25511904815, 10484.654083201714, 10235.561815391831, 7570.4818176598665, 6741.340802180075, 6392.482636800463, 6126.476053508837, 5926.231726219772, 5688.511974834668, 5650.758238623466, 5630.978756575667, 5614.481300852845, 5598.581365173981, 5571.663051575412, 5569.641805595067, 5567.88379974718, 5566.2115213988345, 5564.567921151345, 5561.659646483589, 5561.499417004031, 5561.341395107162, 5561.18400962856, 5561.024764348274, 5560.729909996631, 5560.714139648306, 5560.698501617316, 5560.682507461483, 5560.66677586035, 5560.637261659549, 5560.6356673780865, 5560.634094858622, 5560.632507859447, 5560.630944289896, 5560.627988207494, 5560.627830949783, 5560.627672223217, 5560.627515100727, 5560.627356189507]\n",
      "[0.9625666666666667, 0.9729, 0.9747166666666667, 0.9768166666666667, 0.9635833333333333, 0.9908, 0.9916833333333334, 0.993, 0.9935166666666667, 0.9941, 0.99485, 0.99485, 0.9949, 0.9948333333333333, 0.9948833333333333, 0.99495, 0.9949666666666667, 0.995, 0.995, 0.995, 0.995, 0.995, 0.9949833333333333, 0.9949833333333333, 0.9949833333333333, 0.9949833333333333, 0.9949833333333333, 0.9949833333333333, 0.9949833333333333, 0.9949833333333333, 0.9949833333333333, 0.9949833333333333, 0.9949833333333333, 0.9949833333333333, 0.9949833333333333, 0.9949833333333333, 0.9949833333333333, 0.9949833333333333, 0.9949833333333333, 0.9949833333333333]\n",
      "\n",
      "Accuracy: 0.9817\n"
     ]
    }
   ],
   "source": [
    "# Load the training and testing data\n",
    "X_train, y_train = load_mnist('/Users/ziman/Desktop/MINIST/', kind='train')\n",
    "X_test, y_test = load_mnist('/Users/ziman/Desktop/MINIST/', kind='t10k')\n",
    "\n",
    "X_train = X_train.astype('float32') / 255\n",
    "y_train = y_train.astype('int32')\n",
    "X_test = X_test.astype('float32') / 255\n",
    "y_test = y_test.astype('int32')\n",
    "\n",
    "# Set hyperparameters and train the model\n",
    "input_dim = 784\n",
    "output_dim = 10\n",
    "num_epochs = 40\n",
    "batch_size = 32\n",
    "decay_rate = 0.1\n",
    "decay_steps = 5\n",
    "\n",
    "#best_parameters:\n",
    "hidden_dim = 128\n",
    "lr = 0.02\n",
    "reg_lambda = 0.01\n",
    "select_nn = NeuralNetwork(input_dim, hidden_dim, output_dim, lr=lr, reg_lambda=reg_lambda)\n",
    "select_nn.train(X_train, y_train, num_epochs=num_epochs, batch_size=batch_size, decay_rate=decay_rate, decay_steps=decay_steps)\n",
    "print()\n",
    "acc = np.mean(select_nn.predict(X_test) == y_test)\n",
    "print(f'Accuracy: {acc}')"
   ]
  },
  {
   "cell_type": "code",
   "execution_count": 27,
   "id": "5767a4e4",
   "metadata": {},
   "outputs": [],
   "source": [
    "loss=[18738.13111061164, 12196.719229235649, 10983.25511904815, 10484.654083201714, 10235.561815391831, 7570.4818176598665, 6741.340802180075, 6392.482636800463, 6126.476053508837, 5926.231726219772, 5688.511974834668, 5650.758238623466, 5630.978756575667, 5614.481300852845, 5598.581365173981, 5571.663051575412, 5569.641805595067, 5567.88379974718, 5566.2115213988345, 5564.567921151345, 5561.659646483589, 5561.499417004031, 5561.341395107162, 5561.18400962856, 5561.024764348274, 5560.729909996631, 5560.714139648306, 5560.698501617316, 5560.682507461483, 5560.66677586035, 5560.637261659549, 5560.6356673780865, 5560.634094858622, 5560.632507859447, 5560.630944289896, 5560.627988207494, 5560.627830949783, 5560.627672223217, 5560.627515100727, 5560.627356189507]"
   ]
  },
  {
   "cell_type": "code",
   "execution_count": 29,
   "id": "272e4a0c",
   "metadata": {},
   "outputs": [],
   "source": [
    "accuracy=[0.9625666666666667, 0.9729, 0.9747166666666667, 0.9768166666666667, 0.9635833333333333, 0.9908, 0.9916833333333334, 0.993, 0.9935166666666667, 0.9941, 0.99485, 0.99485, 0.9949, 0.9948333333333333, 0.9948833333333333, 0.99495, 0.9949666666666667, 0.995, 0.995, 0.995, 0.995, 0.995, 0.9949833333333333, 0.9949833333333333, 0.9949833333333333, 0.9949833333333333, 0.9949833333333333, 0.9949833333333333, 0.9949833333333333, 0.9949833333333333, 0.9949833333333333, 0.9949833333333333, 0.9949833333333333, 0.9949833333333333, 0.9949833333333333, 0.9949833333333333, 0.9949833333333333, 0.9949833333333333, 0.9949833333333333, 0.9949833333333333]"
   ]
  },
  {
   "cell_type": "code",
   "execution_count": 44,
   "id": "8d25b1fa",
   "metadata": {},
   "outputs": [
    {
     "data": {
      "text/plain": [
       "[<matplotlib.lines.Line2D at 0x7fa2813158d0>]"
      ]
     },
     "execution_count": 44,
     "metadata": {},
     "output_type": "execute_result"
    },
    {
     "data": {
      "image/png": "[encoded data removed]",
      "text/plain": [
       "<Figure size 1000x500 with 1 Axes>"
      ]
     },
     "metadata": {},
     "output_type": "display_data"
    }
   ],
   "source": [
    "import matplotlib.pyplot as plt\n",
    "plt.figure(figsize = (10,5))\n",
    "plt.xlabel(u'epoch',fontsize=10)\n",
    "plt.ylabel(u'loss',fontsize=10)\n",
    "plt.title(u'Loss',fontsize=12)\n",
    "plt.plot(loss,c = \"r\")"
   ]
  },
  {
   "cell_type": "code",
   "execution_count": 45,
   "id": "e2d98631",
   "metadata": {},
   "outputs": [
    {
     "data": {
      "text/plain": [
       "[<matplotlib.lines.Line2D at 0x7fa28138a5c0>]"
      ]
     },
     "execution_count": 45,
     "metadata": {},
     "output_type": "execute_result"
    },
    {
     "data": {
      "image/png": "[encoded data removed]",
      "text/plain": [
       "<Figure size 1000x500 with 1 Axes>"
      ]
     },
     "metadata": {},
     "output_type": "display_data"
    }
   ],
   "source": [
    "plt.figure(figsize = (10,5))\n",
    "plt.xlabel(u'epoch',fontsize=10)\n",
    "plt.ylabel(u'accuracy',fontsize=10)\n",
    "plt.title(u'Loss',fontsize=12)\n",
    "plt.plot(accuracy,c='b')"
   ]
  },
  {
   "cell_type": "code",
   "execution_count": null,
   "id": "87a7407c",
   "metadata": {},
   "outputs": [],
   "source": []
  }
 ],
 "metadata": {
  "kernelspec": {
   "display_name": "Python 3 (ipykernel)",
   "language": "python",
   "name": "python3"
  },
  "language_info": {
   "codemirror_mode": {
    "name": "ipython",
    "version": 3
   },
   "file_extension": ".py",
   "mimetype": "text/x-python",
   "name": "python",
   "nbconvert_exporter": "python",
   "pygments_lexer": "ipython3",
   "version": "3.10.9"
  }
 },
 "nbformat": 4,
 "nbformat_minor": 5
}
